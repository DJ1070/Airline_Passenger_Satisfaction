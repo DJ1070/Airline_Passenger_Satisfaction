{
 "metadata": {
  "language_info": {
   "codemirror_mode": {
    "name": "ipython",
    "version": 3
   },
   "file_extension": ".py",
   "mimetype": "text/x-python",
   "name": "python",
   "nbconvert_exporter": "python",
   "pygments_lexer": "ipython3",
   "version": "3.8.5"
  },
  "orig_nbformat": 2,
  "kernelspec": {
   "name": "python385jvsc74a57bd0b3ba2566441a7c06988d0923437866b63cedc61552a5af99d1f4fb67d367b25f",
   "display_name": "Python 3.8.5 64-bit ('base': conda)"
  }
 },
 "nbformat": 4,
 "nbformat_minor": 2,
 "cells": [
  {
   "cell_type": "code",
   "execution_count": 1,
   "metadata": {},
   "outputs": [],
   "source": [
    "import pandas as pd\n",
    "import numpy as np\n",
    "import matplotlib.pyplot as plt\n",
    "from sklearn.model_selection import train_test_split\n",
    "from collections import Counter\n",
    "from sklearn.preprocessing import StandardScaler\n",
    "from sklearn.metrics import classification_report, accuracy_score, cohen_kappa_score, confusion_matrix\n",
    "from sklearn.linear_model import LogisticRegression\n",
    "from sklearn.tree import DecisionTreeClassifier\n",
    "from sklearn.neighbors import KNeighborsClassifier\n",
    "from sklearn.svm import SVC\n",
    "from sklearn.ensemble import RandomForestClassifier\n",
    "from sklearn.model_selection import cross_val_score\n",
    "import matplotlib.pyplot as plt"
   ]
  },
  {
   "cell_type": "code",
   "execution_count": 2,
   "metadata": {},
   "outputs": [],
   "source": [
    "df = pd.read_excel('./Data/satisfaction.xlsx')"
   ]
  },
  {
   "cell_type": "code",
   "execution_count": 6,
   "metadata": {},
   "outputs": [
    {
     "output_type": "execute_result",
     "data": {
      "text/plain": [
       "            ID             Satisfaction  Gender      Customer_type  Age  \\\n",
       "0        11112                satisfied  Female     Loyal Customer   65   \n",
       "1       110278                satisfied    Male     Loyal Customer   47   \n",
       "2       103199                satisfied  Female     Loyal Customer   15   \n",
       "3        47462                satisfied  Female     Loyal Customer   60   \n",
       "4       120011                satisfied  Female     Loyal Customer   70   \n",
       "...        ...                      ...     ...                ...  ...   \n",
       "129875  119211                satisfied  Female  disloyal Customer   29   \n",
       "129876   97768  neutral or dissatisfied    Male  disloyal Customer   63   \n",
       "129877  125368  neutral or dissatisfied    Male  disloyal Customer   69   \n",
       "129878     251  neutral or dissatisfied    Male  disloyal Customer   66   \n",
       "129879   84566  neutral or dissatisfied  Female  disloyal Customer   38   \n",
       "\n",
       "         Type_of_travel     Class  Flight_distance  Seat_comfort  \\\n",
       "0       Personal Travel       Eco              265             0   \n",
       "1       Personal Travel  Business             2464             0   \n",
       "2       Personal Travel       Eco             2138             0   \n",
       "3       Personal Travel       Eco              623             0   \n",
       "4       Personal Travel       Eco              354             0   \n",
       "...                 ...       ...              ...           ...   \n",
       "129875  Personal Travel       Eco             1731             5   \n",
       "129876  Personal Travel  Business             2087             2   \n",
       "129877  Personal Travel       Eco             2320             3   \n",
       "129878  Personal Travel       Eco             2450             3   \n",
       "129879  Personal Travel       Eco             4307             3   \n",
       "\n",
       "        Departure_arrival_time_convenient  ...  Online_support  \\\n",
       "0                                       0  ...               2   \n",
       "1                                       0  ...               2   \n",
       "2                                       0  ...               2   \n",
       "3                                       0  ...               3   \n",
       "4                                       0  ...               4   \n",
       "...                                   ...  ...             ...   \n",
       "129875                                  5  ...               2   \n",
       "129876                                  3  ...               1   \n",
       "129877                                  0  ...               2   \n",
       "129878                                  2  ...               2   \n",
       "129879                                  4  ...               3   \n",
       "\n",
       "        Ease_of_online_booking  Onboard_service  Leg_room_service  \\\n",
       "0                            3                3                 0   \n",
       "1                            3                4                 4   \n",
       "2                            2                3                 3   \n",
       "3                            1                1                 0   \n",
       "4                            2                2                 0   \n",
       "...                        ...              ...               ...   \n",
       "129875                       2                3                 3   \n",
       "129876                       3                2                 3   \n",
       "129877                       4                4                 3   \n",
       "129878                       3                3                 2   \n",
       "129879                       4                5                 5   \n",
       "\n",
       "        Baggage_handling  Checkin_service  Cleanliness  Online_boarding  \\\n",
       "0                      3                5            3                2   \n",
       "1                      4                2            3                2   \n",
       "2                      4                4            4                2   \n",
       "3                      1                4            1                3   \n",
       "4                      2                4            2                5   \n",
       "...                  ...              ...          ...              ...   \n",
       "129875                 4                4            4                2   \n",
       "129876                 3                1            2                1   \n",
       "129877                 4                2            3                2   \n",
       "129878                 3                2            1                2   \n",
       "129879                 5                3            3                3   \n",
       "\n",
       "        Departure_delay_in_minutes  Arrival_delay_in_minutes  \n",
       "0                                0                       0.0  \n",
       "1                              310                     305.0  \n",
       "2                                0                       0.0  \n",
       "3                                0                       0.0  \n",
       "4                                0                       0.0  \n",
       "...                            ...                       ...  \n",
       "129875                           0                       0.0  \n",
       "129876                         174                     172.0  \n",
       "129877                         155                     163.0  \n",
       "129878                         193                     205.0  \n",
       "129879                         185                     186.0  \n",
       "\n",
       "[129880 rows x 24 columns]"
      ],
      "text/html": "<div>\n<style scoped>\n    .dataframe tbody tr th:only-of-type {\n        vertical-align: middle;\n    }\n\n    .dataframe tbody tr th {\n        vertical-align: top;\n    }\n\n    .dataframe thead th {\n        text-align: right;\n    }\n</style>\n<table border=\"1\" class=\"dataframe\">\n  <thead>\n    <tr style=\"text-align: right;\">\n      <th></th>\n      <th>ID</th>\n      <th>Satisfaction</th>\n      <th>Gender</th>\n      <th>Customer_type</th>\n      <th>Age</th>\n      <th>Type_of_travel</th>\n      <th>Class</th>\n      <th>Flight_distance</th>\n      <th>Seat_comfort</th>\n      <th>Departure_arrival_time_convenient</th>\n      <th>...</th>\n      <th>Online_support</th>\n      <th>Ease_of_online_booking</th>\n      <th>Onboard_service</th>\n      <th>Leg_room_service</th>\n      <th>Baggage_handling</th>\n      <th>Checkin_service</th>\n      <th>Cleanliness</th>\n      <th>Online_boarding</th>\n      <th>Departure_delay_in_minutes</th>\n      <th>Arrival_delay_in_minutes</th>\n    </tr>\n  </thead>\n  <tbody>\n    <tr>\n      <th>0</th>\n      <td>11112</td>\n      <td>satisfied</td>\n      <td>Female</td>\n      <td>Loyal Customer</td>\n      <td>65</td>\n      <td>Personal Travel</td>\n      <td>Eco</td>\n      <td>265</td>\n      <td>0</td>\n      <td>0</td>\n      <td>...</td>\n      <td>2</td>\n      <td>3</td>\n      <td>3</td>\n      <td>0</td>\n      <td>3</td>\n      <td>5</td>\n      <td>3</td>\n      <td>2</td>\n      <td>0</td>\n      <td>0.0</td>\n    </tr>\n    <tr>\n      <th>1</th>\n      <td>110278</td>\n      <td>satisfied</td>\n      <td>Male</td>\n      <td>Loyal Customer</td>\n      <td>47</td>\n      <td>Personal Travel</td>\n      <td>Business</td>\n      <td>2464</td>\n      <td>0</td>\n      <td>0</td>\n      <td>...</td>\n      <td>2</td>\n      <td>3</td>\n      <td>4</td>\n      <td>4</td>\n      <td>4</td>\n      <td>2</td>\n      <td>3</td>\n      <td>2</td>\n      <td>310</td>\n      <td>305.0</td>\n    </tr>\n    <tr>\n      <th>2</th>\n      <td>103199</td>\n      <td>satisfied</td>\n      <td>Female</td>\n      <td>Loyal Customer</td>\n      <td>15</td>\n      <td>Personal Travel</td>\n      <td>Eco</td>\n      <td>2138</td>\n      <td>0</td>\n      <td>0</td>\n      <td>...</td>\n      <td>2</td>\n      <td>2</td>\n      <td>3</td>\n      <td>3</td>\n      <td>4</td>\n      <td>4</td>\n      <td>4</td>\n      <td>2</td>\n      <td>0</td>\n      <td>0.0</td>\n    </tr>\n    <tr>\n      <th>3</th>\n      <td>47462</td>\n      <td>satisfied</td>\n      <td>Female</td>\n      <td>Loyal Customer</td>\n      <td>60</td>\n      <td>Personal Travel</td>\n      <td>Eco</td>\n      <td>623</td>\n      <td>0</td>\n      <td>0</td>\n      <td>...</td>\n      <td>3</td>\n      <td>1</td>\n      <td>1</td>\n      <td>0</td>\n      <td>1</td>\n      <td>4</td>\n      <td>1</td>\n      <td>3</td>\n      <td>0</td>\n      <td>0.0</td>\n    </tr>\n    <tr>\n      <th>4</th>\n      <td>120011</td>\n      <td>satisfied</td>\n      <td>Female</td>\n      <td>Loyal Customer</td>\n      <td>70</td>\n      <td>Personal Travel</td>\n      <td>Eco</td>\n      <td>354</td>\n      <td>0</td>\n      <td>0</td>\n      <td>...</td>\n      <td>4</td>\n      <td>2</td>\n      <td>2</td>\n      <td>0</td>\n      <td>2</td>\n      <td>4</td>\n      <td>2</td>\n      <td>5</td>\n      <td>0</td>\n      <td>0.0</td>\n    </tr>\n    <tr>\n      <th>...</th>\n      <td>...</td>\n      <td>...</td>\n      <td>...</td>\n      <td>...</td>\n      <td>...</td>\n      <td>...</td>\n      <td>...</td>\n      <td>...</td>\n      <td>...</td>\n      <td>...</td>\n      <td>...</td>\n      <td>...</td>\n      <td>...</td>\n      <td>...</td>\n      <td>...</td>\n      <td>...</td>\n      <td>...</td>\n      <td>...</td>\n      <td>...</td>\n      <td>...</td>\n      <td>...</td>\n    </tr>\n    <tr>\n      <th>129875</th>\n      <td>119211</td>\n      <td>satisfied</td>\n      <td>Female</td>\n      <td>disloyal Customer</td>\n      <td>29</td>\n      <td>Personal Travel</td>\n      <td>Eco</td>\n      <td>1731</td>\n      <td>5</td>\n      <td>5</td>\n      <td>...</td>\n      <td>2</td>\n      <td>2</td>\n      <td>3</td>\n      <td>3</td>\n      <td>4</td>\n      <td>4</td>\n      <td>4</td>\n      <td>2</td>\n      <td>0</td>\n      <td>0.0</td>\n    </tr>\n    <tr>\n      <th>129876</th>\n      <td>97768</td>\n      <td>neutral or dissatisfied</td>\n      <td>Male</td>\n      <td>disloyal Customer</td>\n      <td>63</td>\n      <td>Personal Travel</td>\n      <td>Business</td>\n      <td>2087</td>\n      <td>2</td>\n      <td>3</td>\n      <td>...</td>\n      <td>1</td>\n      <td>3</td>\n      <td>2</td>\n      <td>3</td>\n      <td>3</td>\n      <td>1</td>\n      <td>2</td>\n      <td>1</td>\n      <td>174</td>\n      <td>172.0</td>\n    </tr>\n    <tr>\n      <th>129877</th>\n      <td>125368</td>\n      <td>neutral or dissatisfied</td>\n      <td>Male</td>\n      <td>disloyal Customer</td>\n      <td>69</td>\n      <td>Personal Travel</td>\n      <td>Eco</td>\n      <td>2320</td>\n      <td>3</td>\n      <td>0</td>\n      <td>...</td>\n      <td>2</td>\n      <td>4</td>\n      <td>4</td>\n      <td>3</td>\n      <td>4</td>\n      <td>2</td>\n      <td>3</td>\n      <td>2</td>\n      <td>155</td>\n      <td>163.0</td>\n    </tr>\n    <tr>\n      <th>129878</th>\n      <td>251</td>\n      <td>neutral or dissatisfied</td>\n      <td>Male</td>\n      <td>disloyal Customer</td>\n      <td>66</td>\n      <td>Personal Travel</td>\n      <td>Eco</td>\n      <td>2450</td>\n      <td>3</td>\n      <td>2</td>\n      <td>...</td>\n      <td>2</td>\n      <td>3</td>\n      <td>3</td>\n      <td>2</td>\n      <td>3</td>\n      <td>2</td>\n      <td>1</td>\n      <td>2</td>\n      <td>193</td>\n      <td>205.0</td>\n    </tr>\n    <tr>\n      <th>129879</th>\n      <td>84566</td>\n      <td>neutral or dissatisfied</td>\n      <td>Female</td>\n      <td>disloyal Customer</td>\n      <td>38</td>\n      <td>Personal Travel</td>\n      <td>Eco</td>\n      <td>4307</td>\n      <td>3</td>\n      <td>4</td>\n      <td>...</td>\n      <td>3</td>\n      <td>4</td>\n      <td>5</td>\n      <td>5</td>\n      <td>5</td>\n      <td>3</td>\n      <td>3</td>\n      <td>3</td>\n      <td>185</td>\n      <td>186.0</td>\n    </tr>\n  </tbody>\n</table>\n<p>129880 rows × 24 columns</p>\n</div>"
     },
     "metadata": {},
     "execution_count": 6
    }
   ],
   "source": [
    "df"
   ]
  },
  {
   "cell_type": "code",
   "execution_count": 4,
   "metadata": {},
   "outputs": [
    {
     "output_type": "execute_result",
     "data": {
      "text/plain": [
       "Index(['id', 'satisfaction_v2', 'Gender', 'Customer Type', 'Age',\n",
       "       'Type of Travel', 'Class', 'Flight Distance', 'Seat comfort',\n",
       "       'Departure/Arrival time convenient', 'Food and drink', 'Gate location',\n",
       "       'Inflight wifi service', 'Inflight entertainment', 'Online support',\n",
       "       'Ease of Online booking', 'On-board service', 'Leg room service',\n",
       "       'Baggage handling', 'Checkin service', 'Cleanliness', 'Online boarding',\n",
       "       'Departure Delay in Minutes', 'Arrival Delay in Minutes'],\n",
       "      dtype='object')"
      ]
     },
     "metadata": {},
     "execution_count": 4
    }
   ],
   "source": [
    "df.columns"
   ]
  },
  {
   "cell_type": "code",
   "execution_count": 5,
   "metadata": {},
   "outputs": [],
   "source": [
    "df.columns = ['ID', 'Satisfaction', 'Gender', 'Customer_type', 'Age',\n",
    "       'Type_of_travel', 'Class', 'Flight_distance', 'Seat_comfort',\n",
    "       'Departure_arrival_time_convenient', 'Food_and_drink', 'Gate_location',\n",
    "       'Inflight_wifi_service', 'Inflight_entertainment', 'Online_support',\n",
    "       'Ease_of_online_booking', 'Onboard_service', 'Leg_room_service',\n",
    "       'Baggage_handling', 'Checkin_service', 'Cleanliness', 'Online_boarding',\n",
    "       'Departure_delay_in_minutes', 'Arrival_delay_in_minutes']"
   ]
  },
  {
   "cell_type": "code",
   "execution_count": 7,
   "metadata": {},
   "outputs": [],
   "source": [
    "df['Satisfaction'] = df['Satisfaction'].apply(lambda value: 1 \n",
    "if value == 'satisfied' else 0)"
   ]
  },
  {
   "cell_type": "code",
   "execution_count": 9,
   "metadata": {},
   "outputs": [],
   "source": [
    "df['Gender'] = df['Gender'].apply(lambda value: 1 \n",
    "if value == 'Female' else 0)"
   ]
  },
  {
   "cell_type": "code",
   "execution_count": 12,
   "metadata": {},
   "outputs": [],
   "source": [
    "df['Customer_type'] = df['Customer_type'].apply(lambda value: 1 \n",
    "if value == 'Loyal Customer' else 0)"
   ]
  },
  {
   "cell_type": "code",
   "execution_count": 14,
   "metadata": {},
   "outputs": [],
   "source": [
    "df['Type_of_travel'] = df['Type_of_travel'].apply(lambda value: 1 \n",
    "if value == 'Business travel' else 0)"
   ]
  },
  {
   "cell_type": "code",
   "execution_count": 17,
   "metadata": {},
   "outputs": [],
   "source": [
    "df['Class'] = df['Type_of_travel'].apply(lambda value: 0 \n",
    "if value == 'Eco' else 1\n",
    "if value == 'Eco Plus' else 2)"
   ]
  },
  {
   "cell_type": "code",
   "execution_count": 18,
   "metadata": {},
   "outputs": [
    {
     "output_type": "execute_result",
     "data": {
      "text/plain": [
       "ID                                     int64\n",
       "Satisfaction                           int64\n",
       "Gender                                 int64\n",
       "Customer_type                          int64\n",
       "Age                                    int64\n",
       "Type_of_travel                         int64\n",
       "Class                                  int64\n",
       "Flight_distance                        int64\n",
       "Seat_comfort                           int64\n",
       "Departure_arrival_time_convenient      int64\n",
       "Food_and_drink                         int64\n",
       "Gate_location                          int64\n",
       "Inflight_wifi_service                  int64\n",
       "Inflight_entertainment                 int64\n",
       "Online_support                         int64\n",
       "Ease_of_online_booking                 int64\n",
       "Onboard_service                        int64\n",
       "Leg_room_service                       int64\n",
       "Baggage_handling                       int64\n",
       "Checkin_service                        int64\n",
       "Cleanliness                            int64\n",
       "Online_boarding                        int64\n",
       "Departure_delay_in_minutes             int64\n",
       "Arrival_delay_in_minutes             float64\n",
       "dtype: object"
      ]
     },
     "metadata": {},
     "execution_count": 18
    }
   ],
   "source": [
    "df.dtypes"
   ]
  },
  {
   "cell_type": "code",
   "execution_count": 19,
   "metadata": {},
   "outputs": [],
   "source": [
    "df = df.drop(['ID'], axis = 1)"
   ]
  },
  {
   "cell_type": "code",
   "execution_count": 20,
   "metadata": {},
   "outputs": [
    {
     "output_type": "execute_result",
     "data": {
      "text/plain": [
       "        Satisfaction  Gender  Customer_type  Age  Type_of_travel  Class  \\\n",
       "0                  1       1              1   65               0      2   \n",
       "1                  1       0              1   47               0      2   \n",
       "2                  1       1              1   15               0      2   \n",
       "3                  1       1              1   60               0      2   \n",
       "4                  1       1              1   70               0      2   \n",
       "...              ...     ...            ...  ...             ...    ...   \n",
       "129875             1       1              0   29               0      2   \n",
       "129876             0       0              0   63               0      2   \n",
       "129877             0       0              0   69               0      2   \n",
       "129878             0       0              0   66               0      2   \n",
       "129879             0       1              0   38               0      2   \n",
       "\n",
       "        Flight_distance  Seat_comfort  Departure_arrival_time_convenient  \\\n",
       "0                   265             0                                  0   \n",
       "1                  2464             0                                  0   \n",
       "2                  2138             0                                  0   \n",
       "3                   623             0                                  0   \n",
       "4                   354             0                                  0   \n",
       "...                 ...           ...                                ...   \n",
       "129875             1731             5                                  5   \n",
       "129876             2087             2                                  3   \n",
       "129877             2320             3                                  0   \n",
       "129878             2450             3                                  2   \n",
       "129879             4307             3                                  4   \n",
       "\n",
       "        Food_and_drink  ...  Online_support  Ease_of_online_booking  \\\n",
       "0                    0  ...               2                       3   \n",
       "1                    0  ...               2                       3   \n",
       "2                    0  ...               2                       2   \n",
       "3                    0  ...               3                       1   \n",
       "4                    0  ...               4                       2   \n",
       "...                ...  ...             ...                     ...   \n",
       "129875               5  ...               2                       2   \n",
       "129876               2  ...               1                       3   \n",
       "129877               3  ...               2                       4   \n",
       "129878               3  ...               2                       3   \n",
       "129879               3  ...               3                       4   \n",
       "\n",
       "        Onboard_service  Leg_room_service  Baggage_handling  Checkin_service  \\\n",
       "0                     3                 0                 3                5   \n",
       "1                     4                 4                 4                2   \n",
       "2                     3                 3                 4                4   \n",
       "3                     1                 0                 1                4   \n",
       "4                     2                 0                 2                4   \n",
       "...                 ...               ...               ...              ...   \n",
       "129875                3                 3                 4                4   \n",
       "129876                2                 3                 3                1   \n",
       "129877                4                 3                 4                2   \n",
       "129878                3                 2                 3                2   \n",
       "129879                5                 5                 5                3   \n",
       "\n",
       "        Cleanliness  Online_boarding  Departure_delay_in_minutes  \\\n",
       "0                 3                2                           0   \n",
       "1                 3                2                         310   \n",
       "2                 4                2                           0   \n",
       "3                 1                3                           0   \n",
       "4                 2                5                           0   \n",
       "...             ...              ...                         ...   \n",
       "129875            4                2                           0   \n",
       "129876            2                1                         174   \n",
       "129877            3                2                         155   \n",
       "129878            1                2                         193   \n",
       "129879            3                3                         185   \n",
       "\n",
       "        Arrival_delay_in_minutes  \n",
       "0                            0.0  \n",
       "1                          305.0  \n",
       "2                            0.0  \n",
       "3                            0.0  \n",
       "4                            0.0  \n",
       "...                          ...  \n",
       "129875                       0.0  \n",
       "129876                     172.0  \n",
       "129877                     163.0  \n",
       "129878                     205.0  \n",
       "129879                     186.0  \n",
       "\n",
       "[129880 rows x 23 columns]"
      ],
      "text/html": "<div>\n<style scoped>\n    .dataframe tbody tr th:only-of-type {\n        vertical-align: middle;\n    }\n\n    .dataframe tbody tr th {\n        vertical-align: top;\n    }\n\n    .dataframe thead th {\n        text-align: right;\n    }\n</style>\n<table border=\"1\" class=\"dataframe\">\n  <thead>\n    <tr style=\"text-align: right;\">\n      <th></th>\n      <th>Satisfaction</th>\n      <th>Gender</th>\n      <th>Customer_type</th>\n      <th>Age</th>\n      <th>Type_of_travel</th>\n      <th>Class</th>\n      <th>Flight_distance</th>\n      <th>Seat_comfort</th>\n      <th>Departure_arrival_time_convenient</th>\n      <th>Food_and_drink</th>\n      <th>...</th>\n      <th>Online_support</th>\n      <th>Ease_of_online_booking</th>\n      <th>Onboard_service</th>\n      <th>Leg_room_service</th>\n      <th>Baggage_handling</th>\n      <th>Checkin_service</th>\n      <th>Cleanliness</th>\n      <th>Online_boarding</th>\n      <th>Departure_delay_in_minutes</th>\n      <th>Arrival_delay_in_minutes</th>\n    </tr>\n  </thead>\n  <tbody>\n    <tr>\n      <th>0</th>\n      <td>1</td>\n      <td>1</td>\n      <td>1</td>\n      <td>65</td>\n      <td>0</td>\n      <td>2</td>\n      <td>265</td>\n      <td>0</td>\n      <td>0</td>\n      <td>0</td>\n      <td>...</td>\n      <td>2</td>\n      <td>3</td>\n      <td>3</td>\n      <td>0</td>\n      <td>3</td>\n      <td>5</td>\n      <td>3</td>\n      <td>2</td>\n      <td>0</td>\n      <td>0.0</td>\n    </tr>\n    <tr>\n      <th>1</th>\n      <td>1</td>\n      <td>0</td>\n      <td>1</td>\n      <td>47</td>\n      <td>0</td>\n      <td>2</td>\n      <td>2464</td>\n      <td>0</td>\n      <td>0</td>\n      <td>0</td>\n      <td>...</td>\n      <td>2</td>\n      <td>3</td>\n      <td>4</td>\n      <td>4</td>\n      <td>4</td>\n      <td>2</td>\n      <td>3</td>\n      <td>2</td>\n      <td>310</td>\n      <td>305.0</td>\n    </tr>\n    <tr>\n      <th>2</th>\n      <td>1</td>\n      <td>1</td>\n      <td>1</td>\n      <td>15</td>\n      <td>0</td>\n      <td>2</td>\n      <td>2138</td>\n      <td>0</td>\n      <td>0</td>\n      <td>0</td>\n      <td>...</td>\n      <td>2</td>\n      <td>2</td>\n      <td>3</td>\n      <td>3</td>\n      <td>4</td>\n      <td>4</td>\n      <td>4</td>\n      <td>2</td>\n      <td>0</td>\n      <td>0.0</td>\n    </tr>\n    <tr>\n      <th>3</th>\n      <td>1</td>\n      <td>1</td>\n      <td>1</td>\n      <td>60</td>\n      <td>0</td>\n      <td>2</td>\n      <td>623</td>\n      <td>0</td>\n      <td>0</td>\n      <td>0</td>\n      <td>...</td>\n      <td>3</td>\n      <td>1</td>\n      <td>1</td>\n      <td>0</td>\n      <td>1</td>\n      <td>4</td>\n      <td>1</td>\n      <td>3</td>\n      <td>0</td>\n      <td>0.0</td>\n    </tr>\n    <tr>\n      <th>4</th>\n      <td>1</td>\n      <td>1</td>\n      <td>1</td>\n      <td>70</td>\n      <td>0</td>\n      <td>2</td>\n      <td>354</td>\n      <td>0</td>\n      <td>0</td>\n      <td>0</td>\n      <td>...</td>\n      <td>4</td>\n      <td>2</td>\n      <td>2</td>\n      <td>0</td>\n      <td>2</td>\n      <td>4</td>\n      <td>2</td>\n      <td>5</td>\n      <td>0</td>\n      <td>0.0</td>\n    </tr>\n    <tr>\n      <th>...</th>\n      <td>...</td>\n      <td>...</td>\n      <td>...</td>\n      <td>...</td>\n      <td>...</td>\n      <td>...</td>\n      <td>...</td>\n      <td>...</td>\n      <td>...</td>\n      <td>...</td>\n      <td>...</td>\n      <td>...</td>\n      <td>...</td>\n      <td>...</td>\n      <td>...</td>\n      <td>...</td>\n      <td>...</td>\n      <td>...</td>\n      <td>...</td>\n      <td>...</td>\n      <td>...</td>\n    </tr>\n    <tr>\n      <th>129875</th>\n      <td>1</td>\n      <td>1</td>\n      <td>0</td>\n      <td>29</td>\n      <td>0</td>\n      <td>2</td>\n      <td>1731</td>\n      <td>5</td>\n      <td>5</td>\n      <td>5</td>\n      <td>...</td>\n      <td>2</td>\n      <td>2</td>\n      <td>3</td>\n      <td>3</td>\n      <td>4</td>\n      <td>4</td>\n      <td>4</td>\n      <td>2</td>\n      <td>0</td>\n      <td>0.0</td>\n    </tr>\n    <tr>\n      <th>129876</th>\n      <td>0</td>\n      <td>0</td>\n      <td>0</td>\n      <td>63</td>\n      <td>0</td>\n      <td>2</td>\n      <td>2087</td>\n      <td>2</td>\n      <td>3</td>\n      <td>2</td>\n      <td>...</td>\n      <td>1</td>\n      <td>3</td>\n      <td>2</td>\n      <td>3</td>\n      <td>3</td>\n      <td>1</td>\n      <td>2</td>\n      <td>1</td>\n      <td>174</td>\n      <td>172.0</td>\n    </tr>\n    <tr>\n      <th>129877</th>\n      <td>0</td>\n      <td>0</td>\n      <td>0</td>\n      <td>69</td>\n      <td>0</td>\n      <td>2</td>\n      <td>2320</td>\n      <td>3</td>\n      <td>0</td>\n      <td>3</td>\n      <td>...</td>\n      <td>2</td>\n      <td>4</td>\n      <td>4</td>\n      <td>3</td>\n      <td>4</td>\n      <td>2</td>\n      <td>3</td>\n      <td>2</td>\n      <td>155</td>\n      <td>163.0</td>\n    </tr>\n    <tr>\n      <th>129878</th>\n      <td>0</td>\n      <td>0</td>\n      <td>0</td>\n      <td>66</td>\n      <td>0</td>\n      <td>2</td>\n      <td>2450</td>\n      <td>3</td>\n      <td>2</td>\n      <td>3</td>\n      <td>...</td>\n      <td>2</td>\n      <td>3</td>\n      <td>3</td>\n      <td>2</td>\n      <td>3</td>\n      <td>2</td>\n      <td>1</td>\n      <td>2</td>\n      <td>193</td>\n      <td>205.0</td>\n    </tr>\n    <tr>\n      <th>129879</th>\n      <td>0</td>\n      <td>1</td>\n      <td>0</td>\n      <td>38</td>\n      <td>0</td>\n      <td>2</td>\n      <td>4307</td>\n      <td>3</td>\n      <td>4</td>\n      <td>3</td>\n      <td>...</td>\n      <td>3</td>\n      <td>4</td>\n      <td>5</td>\n      <td>5</td>\n      <td>5</td>\n      <td>3</td>\n      <td>3</td>\n      <td>3</td>\n      <td>185</td>\n      <td>186.0</td>\n    </tr>\n  </tbody>\n</table>\n<p>129880 rows × 23 columns</p>\n</div>"
     },
     "metadata": {},
     "execution_count": 20
    }
   ],
   "source": [
    "df"
   ]
  },
  {
   "cell_type": "code",
   "execution_count": null,
   "metadata": {},
   "outputs": [],
   "source": []
  }
 ]
}